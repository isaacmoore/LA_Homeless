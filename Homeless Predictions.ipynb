{
 "cells": [
  {
   "cell_type": "code",
   "execution_count": 13,
   "metadata": {
    "collapsed": false
   },
   "outputs": [
    {
     "ename": "IndexError",
     "evalue": "only integers, slices (`:`), ellipsis (`...`), numpy.newaxis (`None`) and integer or boolean arrays are valid indices",
     "output_type": "error",
     "traceback": [
      "\u001b[0;31m---------------------------------------------------------------------------\u001b[0m",
      "\u001b[0;31mIndexError\u001b[0m                                Traceback (most recent call last)",
      "\u001b[0;32m<ipython-input-13-d0f42288c7e1>\u001b[0m in \u001b[0;36m<module>\u001b[0;34m()\u001b[0m\n\u001b[1;32m     35\u001b[0m \u001b[0;34m\u001b[0m\u001b[0m\n\u001b[1;32m     36\u001b[0m \u001b[0;31m# Pass values through the multiplier functions for each feature\u001b[0m\u001b[0;34m\u001b[0m\u001b[0;34m\u001b[0m\u001b[0m\n\u001b[0;32m---> 37\u001b[0;31m \u001b[0mmin_parks\u001b[0m \u001b[0;34m=\u001b[0m \u001b[0mminer\u001b[0m\u001b[0;34m(\u001b[0m\u001b[0mX\u001b[0m\u001b[0;34m[\u001b[0m\u001b[0;34m'parks'\u001b[0m\u001b[0;34m]\u001b[0m\u001b[0;34m[\u001b[0m\u001b[0;36m0\u001b[0m\u001b[0;34m:\u001b[0m\u001b[0;34m]\u001b[0m\u001b[0;34m)\u001b[0m\u001b[0;34m\u001b[0m\u001b[0m\n\u001b[0m\u001b[1;32m     38\u001b[0m \u001b[0mmax_parks\u001b[0m \u001b[0;34m=\u001b[0m \u001b[0mmaxer\u001b[0m\u001b[0;34m(\u001b[0m\u001b[0mX\u001b[0m\u001b[0;34m[\u001b[0m\u001b[0;34m'parks'\u001b[0m\u001b[0;34m]\u001b[0m\u001b[0;34m.\u001b[0m\u001b[0mvalues\u001b[0m\u001b[0;34m)\u001b[0m\u001b[0;34m\u001b[0m\u001b[0m\n\u001b[1;32m     39\u001b[0m \u001b[0;34m\u001b[0m\u001b[0m\n",
      "\u001b[0;31mIndexError\u001b[0m: only integers, slices (`:`), ellipsis (`...`), numpy.newaxis (`None`) and integer or boolean arrays are valid indices"
     ]
    }
   ],
   "source": [
    "# Import Packages\n",
    "from ipywidgets import interact, interactive, fixed\n",
    "from IPython.html.widgets.widget_int import IntSlider\n",
    "import ipywidgets as widgets\n",
    "from sklearn.linear_model import LinearRegression\n",
    "from sklearn.svm import SVR\n",
    "from sklearn.cross_validation import train_test_split\n",
    "from sklearn.preprocessing import StandardScaler\n",
    "import pandas as pd\n",
    "import numpy as np\n",
    "import warnings\n",
    "warnings.simplefilter(action = \"ignore\") \n",
    "\n",
    "# Read data\n",
    "df = pd.read_csv('data/homeless_df_forpred.csv')\n",
    "\n",
    "# Make variables and train/test split\n",
    "X = df[['parks','shelter_beds','building_permits','foreclosures']]\n",
    "y = df['total_people'].values\n",
    "X = StandardScaler().fit_transform(X,y)\n",
    "X_train, X_test, y_train, y_test = train_test_split(X, y, test_size=0.33)\n",
    "\n",
    "# Linear Regression\n",
    "lr = LinearRegression(normalize=True, n_jobs=-1)\n",
    "lr.fit(X_train, y_train)\n",
    "# svr_lin = SVR(kernel='linear', C=1e3)\n",
    "# svr_lin.fit(X_train, y_train)\n",
    "\n",
    "# Create functions for multiplier -- min and max \n",
    "def miner(x):\n",
    "    return x/1.9\n",
    "\n",
    "def maxer(x):\n",
    "    return x*1.9\n",
    "\n",
    "# Pass values through the multiplier functions for each feature\n",
    "min_parks = miner(X['parks'].values)\n",
    "max_parks = maxer(X['parks'].values)\n",
    "\n",
    "min_shbeds = miner(X['shelter_beds'].values)\n",
    "max_shbeds = maxer(X['shelter_beds'].values)\n",
    "\n",
    "min_bp = miner(X['building_permits'].values)\n",
    "max_bp = maxer(X['building_permits'].values)\n",
    "\n",
    "min_fc = miner(X['foreclosures'].values)\n",
    "max_fc = maxer(X['foreclosures'].values)\n",
    "\n",
    "# Slider Values\n",
    "parks_slide = IntSlider(min=min(min_parks), max=max(max_parks), step=1, value=X.parks.mean())\n",
    "shelter_beds_slide = IntSlider(min=min(min_shbeds), max=max(max_shbeds), step=1, value=X.shelter_beds.mean())\n",
    "building_permits_slide = IntSlider(min=min(min_bp), max=max(max_bp), step=1, value=X.building_permits.mean())\n",
    "foreclosures_slide = IntSlider(min=min(min_fc), max=max(max_fc), step=1, value=X.foreclosures.mean())\n",
    "\n",
    "# Make predictions\n",
    "def predictor(parks_slide, shelter_beds_slide, building_permits_slide, foreclosures_slide):\n",
    "    stuff = np.array([parks_slide.value, shelter_beds_slide.value, building_permits_slide.value, foreclosures_slide.value])\n",
    "    y_preds = lr.predict(stuff)\n",
    "#     y_preds = svr_lin.predict(stuff)\n",
    "    return round(sum(y_preds))\n",
    "\n",
    "# Print Values and Predictions\n",
    "def printer(parks, shelter_beds, building_permits, foreclosures):\n",
    "    print 'Parks:', parks, '\\nShelter Beds:', shelter_beds, '\\nBuilding Permits', building_permits, '\\nForeclosures', foreclosures, '\\n\\nTOTAL HOMELESS:', predictor(parks_slide, shelter_beds_slide, building_permits_slide, foreclosures_slide)\n",
    "\n",
    "interact(printer,parks=parks_slide, shelter_beds=shelter_beds_slide, building_permits=building_permits_slide, foreclosures=foreclosures_slide)"
   ]
  },
  {
   "cell_type": "code",
   "execution_count": null,
   "metadata": {
    "collapsed": true
   },
   "outputs": [],
   "source": []
  }
 ],
 "metadata": {
  "kernelspec": {
   "display_name": "Python [default]",
   "language": "python",
   "name": "python2"
  },
  "language_info": {
   "codemirror_mode": {
    "name": "ipython",
    "version": 2
   },
   "file_extension": ".py",
   "mimetype": "text/x-python",
   "name": "python",
   "nbconvert_exporter": "python",
   "pygments_lexer": "ipython2",
   "version": "2.7.12"
  }
 },
 "nbformat": 4,
 "nbformat_minor": 0
}
